{
 "cells": [
  {
   "cell_type": "code",
   "execution_count": 26,
   "id": "1fed9ebb",
   "metadata": {},
   "outputs": [],
   "source": [
    "import tensorflow as tf\n",
    "import tensorflow_datasets as tf_df"
   ]
  },
  {
   "cell_type": "markdown",
   "id": "e5388095",
   "metadata": {},
   "source": [
    "# Download Dataset and Preprocess the data"
   ]
  },
  {
   "cell_type": "code",
   "execution_count": 27,
   "id": "d2894302",
   "metadata": {},
   "outputs": [],
   "source": [
    "Buffer_SIZE = 70_000\n",
    "BATCH_SIZE = 128\n",
    "NUM_EPOCHS = 20"
   ]
  },
  {
   "cell_type": "code",
   "execution_count": 28,
   "id": "b4bb2135",
   "metadata": {},
   "outputs": [],
   "source": [
    "mnist_dataset,mnist_info = tf_df.load(name='mnist',with_info = True,as_supervised = True)"
   ]
  },
  {
   "cell_type": "code",
   "execution_count": 29,
   "id": "dd6009ac",
   "metadata": {},
   "outputs": [],
   "source": [
    "mnist_train,mnist_test = mnist_dataset['train'],mnist_dataset['test']"
   ]
  },
  {
   "cell_type": "code",
   "execution_count": 30,
   "id": "8b8aab29",
   "metadata": {},
   "outputs": [],
   "source": [
    "def scale(image , label):\n",
    "    image = tf.cast(image,tf.float32)\n",
    "    image/=255\n",
    "    return image,label"
   ]
  },
  {
   "cell_type": "code",
   "execution_count": 31,
   "id": "687d64ba",
   "metadata": {},
   "outputs": [],
   "source": [
    "train_and_validation_data = mnist_train.map(scale)\n",
    "test_data = mnist_test.map(scale)"
   ]
  },
  {
   "cell_type": "code",
   "execution_count": 32,
   "id": "c880bd0c",
   "metadata": {},
   "outputs": [],
   "source": [
    "num_validation_samples = 0.1 * mnist_info.splits['train'].num_examples"
   ]
  },
  {
   "cell_type": "code",
   "execution_count": 33,
   "id": "92ae722b",
   "metadata": {},
   "outputs": [],
   "source": [
    "num_validation_samples = tf.cast(num_validation_samples,tf.int64)"
   ]
  },
  {
   "cell_type": "code",
   "execution_count": 34,
   "id": "7b8159c6",
   "metadata": {},
   "outputs": [],
   "source": [
    "num_test_samples = mnist_info.splits['test'].num_examples\n",
    "num_test_samples = tf.cast(num_test_samples, tf.int64)"
   ]
  },
  {
   "cell_type": "code",
   "execution_count": 35,
   "id": "f23ee469",
   "metadata": {},
   "outputs": [],
   "source": [
    "train_and_validation_data = train_and_validation_data.shuffle(Buffer_SIZE)"
   ]
  },
  {
   "cell_type": "code",
   "execution_count": 36,
   "id": "8010fd6a",
   "metadata": {},
   "outputs": [],
   "source": [
    "train_data = train_and_validation_data.skip(num_validation_samples)"
   ]
  },
  {
   "cell_type": "code",
   "execution_count": 37,
   "id": "ad6cb2d6",
   "metadata": {},
   "outputs": [],
   "source": [
    "validation_data = train_and_validation_data.take(num_validation_samples)"
   ]
  },
  {
   "cell_type": "code",
   "execution_count": 38,
   "id": "839e03a8",
   "metadata": {},
   "outputs": [],
   "source": [
    "train_data = train_data.batch(BATCH_SIZE)\n",
    "validation_data = validation_data.batch(num_validation_samples)\n",
    "test_data = test_data.batch(num_test_samples)"
   ]
  },
  {
   "cell_type": "markdown",
   "id": "ca15f2bc",
   "metadata": {},
   "source": [
    "# Create the model and training it"
   ]
  },
  {
   "cell_type": "code",
   "execution_count": 39,
   "id": "7531d8dc",
   "metadata": {},
   "outputs": [],
   "source": [
    "# layers will come one after the other\n",
    "model= tf.keras.Sequential([\n",
    " # first one is the convlution one\n",
    " tf.keras.layers.Conv2D(50,5,activation='relu',input_shape=(28,28,1)),\n",
    " #second one will be MaxPool to compress image\n",
    " tf.keras.layers.MaxPooling2D(pool_size=(2,2)),\n",
    " #third one will repeated from first two layers\n",
    " tf.keras.layers.Conv2D(50,3,activation='relu'),\n",
    " tf.keras.layers.MaxPooling2D(pool_size=(2,2)),\n",
    " # flatten the result\n",
    " tf.keras.layers.Flatten(),\n",
    " # Dense for the ouput [In this I will use softmax as an activation function]\n",
    " tf.keras.layers.Dense(10)   \n",
    "])"
   ]
  },
  {
   "cell_type": "code",
   "execution_count": 40,
   "id": "c28d5776",
   "metadata": {},
   "outputs": [
    {
     "name": "stdout",
     "output_type": "stream",
     "text": [
      "Model: \"sequential_1\"\n",
      "___________________________________________________________________________\n",
      " Layer (type)                    Output Shape                  Param #     \n",
      "===========================================================================\n",
      " conv2d_2 (Conv2D)               (None, 24, 24, 50)            1300        \n",
      "                                                                           \n",
      " max_pooling2d_2 (MaxPooling2D)  (None, 12, 12, 50)            0           \n",
      "                                                                           \n",
      " conv2d_3 (Conv2D)               (None, 10, 10, 50)            22550       \n",
      "                                                                           \n",
      " max_pooling2d_3 (MaxPooling2D)  (None, 5, 5, 50)              0           \n",
      "                                                                           \n",
      " flatten_1 (Flatten)             (None, 1250)                  0           \n",
      "                                                                           \n",
      " dense_1 (Dense)                 (None, 10)                    12510       \n",
      "                                                                           \n",
      "===========================================================================\n",
      "Total params: 36,360\n",
      "Trainable params: 36,360\n",
      "Non-trainable params: 0\n",
      "___________________________________________________________________________\n"
     ]
    }
   ],
   "source": [
    "# showing summary of the model\n",
    "model.summary(line_length = 75)"
   ]
  },
  {
   "cell_type": "code",
   "execution_count": 41,
   "id": "58fb9889",
   "metadata": {},
   "outputs": [],
   "source": [
    "loss_fn = tf.keras.losses.SparseCategoricalCrossentropy(from_logits = True)"
   ]
  },
  {
   "cell_type": "code",
   "execution_count": 42,
   "id": "97ba4663",
   "metadata": {},
   "outputs": [],
   "source": [
    "model.compile(optimizer = 'adam',loss = loss_fn,metrics=['accuracy'])"
   ]
  },
  {
   "cell_type": "code",
   "execution_count": 43,
   "id": "68cb3800",
   "metadata": {},
   "outputs": [],
   "source": [
    "#handling overfitting\n",
    "early_stopping = tf.keras.callbacks.EarlyStopping(\n",
    "    monitor='val_loss',\n",
    "    mode = 'auto',\n",
    "    min_delta=0,\n",
    "    patience=2,\n",
    "    verbose=0,\n",
    "    restore_best_weights=True\n",
    ")"
   ]
  },
  {
   "cell_type": "code",
   "execution_count": 44,
   "id": "9403383f",
   "metadata": {},
   "outputs": [
    {
     "name": "stdout",
     "output_type": "stream",
     "text": [
      "Epoch 1/20\n",
      "422/422 - 25s - loss: 0.2709 - accuracy: 0.9220 - val_loss: 0.1089 - val_accuracy: 0.9698 - 25s/epoch - 59ms/step\n",
      "Epoch 2/20\n",
      "422/422 - 24s - loss: 0.0720 - accuracy: 0.9788 - val_loss: 0.0655 - val_accuracy: 0.9803 - 24s/epoch - 56ms/step\n",
      "Epoch 3/20\n",
      "422/422 - 24s - loss: 0.0518 - accuracy: 0.9845 - val_loss: 0.0478 - val_accuracy: 0.9845 - 24s/epoch - 56ms/step\n",
      "Epoch 4/20\n",
      "422/422 - 23s - loss: 0.0422 - accuracy: 0.9874 - val_loss: 0.0325 - val_accuracy: 0.9910 - 23s/epoch - 55ms/step\n",
      "Epoch 5/20\n",
      "422/422 - 25s - loss: 0.0367 - accuracy: 0.9884 - val_loss: 0.0274 - val_accuracy: 0.9902 - 25s/epoch - 60ms/step\n",
      "Epoch 6/20\n",
      "422/422 - 23s - loss: 0.0311 - accuracy: 0.9900 - val_loss: 0.0261 - val_accuracy: 0.9940 - 23s/epoch - 55ms/step\n",
      "Epoch 7/20\n",
      "422/422 - 24s - loss: 0.0268 - accuracy: 0.9915 - val_loss: 0.0235 - val_accuracy: 0.9942 - 24s/epoch - 56ms/step\n",
      "Epoch 8/20\n",
      "422/422 - 25s - loss: 0.0235 - accuracy: 0.9922 - val_loss: 0.0219 - val_accuracy: 0.9928 - 25s/epoch - 60ms/step\n",
      "Epoch 9/20\n",
      "422/422 - 25s - loss: 0.0210 - accuracy: 0.9932 - val_loss: 0.0207 - val_accuracy: 0.9943 - 25s/epoch - 59ms/step\n",
      "Epoch 10/20\n",
      "422/422 - 24s - loss: 0.0188 - accuracy: 0.9941 - val_loss: 0.0177 - val_accuracy: 0.9940 - 24s/epoch - 57ms/step\n",
      "Epoch 11/20\n",
      "422/422 - 23s - loss: 0.0158 - accuracy: 0.9951 - val_loss: 0.0157 - val_accuracy: 0.9955 - 23s/epoch - 54ms/step\n",
      "Epoch 12/20\n",
      "422/422 - 23s - loss: 0.0153 - accuracy: 0.9953 - val_loss: 0.0122 - val_accuracy: 0.9962 - 23s/epoch - 54ms/step\n",
      "Epoch 13/20\n",
      "422/422 - 23s - loss: 0.0132 - accuracy: 0.9959 - val_loss: 0.0080 - val_accuracy: 0.9972 - 23s/epoch - 53ms/step\n",
      "Epoch 14/20\n",
      "422/422 - 22s - loss: 0.0123 - accuracy: 0.9961 - val_loss: 0.0100 - val_accuracy: 0.9968 - 22s/epoch - 52ms/step\n",
      "Epoch 15/20\n",
      "422/422 - 22s - loss: 0.0102 - accuracy: 0.9968 - val_loss: 0.0110 - val_accuracy: 0.9963 - 22s/epoch - 51ms/step\n"
     ]
    },
    {
     "data": {
      "text/plain": [
       "<keras.callbacks.History at 0x18189484190>"
      ]
     },
     "execution_count": 44,
     "metadata": {},
     "output_type": "execute_result"
    }
   ],
   "source": [
    "model.fit(\n",
    "    train_data,\n",
    "    epochs=NUM_EPOCHS,\n",
    "    callbacks=[early_stopping],\n",
    "    validation_data = validation_data,\n",
    "    verbose = 2\n",
    ")"
   ]
  },
  {
   "cell_type": "markdown",
   "id": "9fbe635f",
   "metadata": {},
   "source": [
    "# Testing model"
   ]
  },
  {
   "cell_type": "code",
   "execution_count": 45,
   "id": "5af383f7",
   "metadata": {},
   "outputs": [
    {
     "name": "stdout",
     "output_type": "stream",
     "text": [
      "1/1 [==============================] - 1s 1s/step - loss: 0.0310 - accuracy: 0.9906\n"
     ]
    }
   ],
   "source": [
    "# test model\n",
    "test_loss,test_accuracy = model.evaluate(test_data)"
   ]
  },
  {
   "cell_type": "code",
   "execution_count": 46,
   "id": "87140d95",
   "metadata": {},
   "outputs": [
    {
     "name": "stdout",
     "output_type": "stream",
     "text": [
      "Test loss :  0.0310. Test accuracy :  99.06%\n"
     ]
    }
   ],
   "source": [
    "# printing the accuracy\n",
    "print('Test loss : {0: .4f}. Test accuracy : {1: .2f}%'.format(test_loss , test_accuracy*100.))"
   ]
  },
  {
   "cell_type": "markdown",
   "id": "e7a591d1",
   "metadata": {},
   "source": [
    "# Plotting for images and results"
   ]
  },
  {
   "cell_type": "code",
   "execution_count": 51,
   "id": "d4766d0d",
   "metadata": {},
   "outputs": [],
   "source": [
    "import matplotlib.pyplot as plt\n",
    "import numpy as np"
   ]
  },
  {
   "cell_type": "code",
   "execution_count": 52,
   "id": "e1c452ba",
   "metadata": {},
   "outputs": [],
   "source": [
    "#Split the test_data into 2 arrays containing the images and the corresponding labels\n",
    "for images , labels in test_data.take(1):\n",
    "    images_test = images.numpy()\n",
    "    labels_test = labels.numpy()\n",
    "\n",
    "#Reshape the images into 28x28 form , suitable for matplotlib    \n",
    "images_plot = np.reshape(images_test,(10000,28,28))"
   ]
  },
  {
   "cell_type": "code",
   "execution_count": 68,
   "id": "f05f8ac2",
   "metadata": {},
   "outputs": [
    {
     "data": {
      "image/png": "[encoded data removed]",
      "text/plain": [
       "<Figure size 144x144 with 1 Axes>"
      ]
     },
     "metadata": {
      "needs_background": "light"
     },
     "output_type": "display_data"
    },
    {
     "name": "stdout",
     "output_type": "stream",
     "text": [
      "label:1\n"
     ]
    }
   ],
   "source": [
    "# The image to be displayed and tested => Enter any number you want to see\n",
    "i = 10\n",
    "\n",
    "#plot the images\n",
    "plt.figure(figsize=(2, 2))\n",
    "plt.axis('off')\n",
    "plt.imshow(images_plot[i-1], cmap=\"gray\", aspect = 'auto')\n",
    "plt.show()\n",
    "\n",
    "print(\"label:{}\".format(labels_test[i - 1]))"
   ]
  },
  {
   "cell_type": "code",
   "execution_count": 69,
   "id": "4015c691",
   "metadata": {},
   "outputs": [
    {
     "name": "stdout",
     "output_type": "stream",
     "text": [
      "1/1 [==============================] - 0s 33ms/step\n"
     ]
    },
    {
     "data": {
      "text/plain": [
       "<BarContainer object of 10 artists>"
      ]
     },
     "execution_count": 69,
     "metadata": {},
     "output_type": "execute_result"
    },
    {
     "data": {
      "image/png": "[encoded data removed]",
      "text/plain": [
       "<Figure size 864x360 with 1 Axes>"
      ]
     },
     "metadata": {
      "needs_background": "light"
     },
     "output_type": "display_data"
    }
   ],
   "source": [
    "# obtain the model's predictions\n",
    "predictions = model.predict(images_test[i-1:i])\n",
    "#convert predictions into probabilities\n",
    "probabilities = tf.nn.softmax(predictions).numpy()\n",
    "# convert probabilities into precentage\n",
    "probabilities = probabilities*100\n",
    "\n",
    "#create a bar chart to plot the probabilities for each class\n",
    "plt.figure(figsize=(12,5))\n",
    "plt.bar(x=[1,2,3,4,5,6,7,8,9,10] , height = probabilities[0],tick_label=[\"0\",\"1\",\"2\",\"3\",\"4\",\"5\",\"6\",\"7\",\"8\",\"9\"])"
   ]
  }
 ],
 "metadata": {
  "kernelspec": {
   "display_name": "Python 3",
   "language": "python",
   "name": "python3"
  },
  "language_info": {
   "codemirror_mode": {
    "name": "ipython",
    "version": 3
   },
   "file_extension": ".py",
   "mimetype": "text/x-python",
   "name": "python",
   "nbconvert_exporter": "python",
   "pygments_lexer": "ipython3",
   "version": "3.8.8"
  }
 },
 "nbformat": 4,
 "nbformat_minor": 5
}
